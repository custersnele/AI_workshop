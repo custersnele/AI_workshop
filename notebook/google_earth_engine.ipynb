{
  "nbformat": 4,
  "nbformat_minor": 0,
  "metadata": {
    "colab": {
      "provenance": []
    },
    "kernelspec": {
      "name": "python3",
      "display_name": "Python 3"
    },
    "language_info": {
      "name": "python"
    },
    "widgets": {
      "application/vnd.jupyter.widget-state+json": {
        "6c31afdbfa6f4a47be3b9604ff652312": {
          "model_module": "jupyter-leaflet",
          "model_name": "LeafletMapModel",
          "model_module_version": "^0.18",
          "state": {
            "_dom_classes": [],
            "_model_module": "jupyter-leaflet",
            "_model_module_version": "^0.18",
            "_model_name": "LeafletMapModel",
            "_view_count": null,
            "_view_module": "jupyter-leaflet",
            "_view_module_version": "^0.18",
            "_view_name": "LeafletMapView",
            "bottom": 301097,
            "bounce_at_zoom_limits": true,
            "box_zoom": true,
            "center": [
              -25.6396692864456,
              27.906326208796585
            ],
            "close_popup_on_click": true,
            "controls": [
              "IPY_MODEL_e701f6a73474455db1782aa62aca59f7",
              "IPY_MODEL_45f0835f75094a79b81362110273a036",
              "IPY_MODEL_dd2b63be6b0f481fa217024896180700",
              "IPY_MODEL_8b4269e71dec463bafd0f51233c83be7",
              "IPY_MODEL_9775048a678c4d14966afa40fb1d9ef9",
              "IPY_MODEL_95d6736986b14a069f5a9066f4154b44"
            ],
            "crs": {
              "name": "EPSG3857",
              "custom": false
            },
            "default_style": "IPY_MODEL_e3e952fcb48d47518268c809fa79da15",
            "double_click_zoom": true,
            "dragging": true,
            "dragging_style": "IPY_MODEL_8c8592d440be452c8594d851e4d03eee",
            "east": 28.32415000030049,
            "fullscreen": false,
            "inertia": true,
            "inertia_deceleration": 3000,
            "inertia_max_speed": 1500,
            "interpolation": "bilinear",
            "keyboard": true,
            "keyboard_pan_offset": 80,
            "keyboard_zoom_offset": 1,
            "layers": [
              "IPY_MODEL_cd7aac4a1c58435d9eee3564e801d6a2",
              "IPY_MODEL_078910c2ae704847bbbda4be2b9101e1"
            ],
            "layout": "IPY_MODEL_9b8cfec132a4475c837e87f9f45ef1e2",
            "left": 302177.0332093265,
            "max_zoom": null,
            "min_zoom": null,
            "modisdate": "2024-03-27",
            "north": -25.4538149753354,
            "options": [
              "bounce_at_zoom_limits",
              "box_zoom",
              "center",
              "close_popup_on_click",
              "double_click_zoom",
              "dragging",
              "fullscreen",
              "inertia",
              "inertia_deceleration",
              "inertia_max_speed",
              "interpolation",
              "keyboard",
              "keyboard_pan_offset",
              "keyboard_zoom_offset",
              "max_zoom",
              "min_zoom",
              "prefer_canvas",
              "scroll_wheel_zoom",
              "tap",
              "tap_tolerance",
              "touch_zoom",
              "world_copy_jump",
              "zoom",
              "zoom_animation_threshold",
              "zoom_delta",
              "zoom_snap"
            ],
            "panes": {},
            "prefer_canvas": false,
            "right": 303394.0332093265,
            "scroll_wheel_zoom": true,
            "south": -25.82523468800373,
            "style": "IPY_MODEL_e3e952fcb48d47518268c809fa79da15",
            "tap": true,
            "tap_tolerance": 15,
            "top": 300497,
            "touch_zoom": true,
            "west": 27.48850241729268,
            "window_url": "https://7xn0mzixbfw-496ff2e9c6d22116-0-colab.googleusercontent.com/outputframe.html?vrz=colab_20240322-060103_RC00_618130607",
            "world_copy_jump": false,
            "zoom": 11,
            "zoom_animation_threshold": 4,
            "zoom_delta": 1,
            "zoom_snap": 1
          }
        },
        "e701f6a73474455db1782aa62aca59f7": {
          "model_module": "jupyter-leaflet",
          "model_name": "LeafletZoomControlModel",
          "model_module_version": "^0.18",
          "state": {
            "_model_module": "jupyter-leaflet",
            "_model_module_version": "^0.18",
            "_model_name": "LeafletZoomControlModel",
            "_view_count": null,
            "_view_module": "jupyter-leaflet",
            "_view_module_version": "^0.18",
            "_view_name": "LeafletZoomControlView",
            "options": [
              "position",
              "zoom_in_text",
              "zoom_in_title",
              "zoom_out_text",
              "zoom_out_title"
            ],
            "position": "topleft",
            "zoom_in_text": "+",
            "zoom_in_title": "Zoom in",
            "zoom_out_text": "-",
            "zoom_out_title": "Zoom out"
          }
        },
        "45f0835f75094a79b81362110273a036": {
          "model_module": "jupyter-leaflet",
          "model_name": "LeafletFullScreenControlModel",
          "model_module_version": "^0.18",
          "state": {
            "_model_module": "jupyter-leaflet",
            "_model_module_version": "^0.18",
            "_model_name": "LeafletFullScreenControlModel",
            "_view_count": null,
            "_view_module": "jupyter-leaflet",
            "_view_module_version": "^0.18",
            "_view_name": "LeafletFullScreenControlView",
            "options": [
              "position"
            ],
            "position": "topleft"
          }
        },
        "dd2b63be6b0f481fa217024896180700": {
          "model_module": "jupyter-leaflet",
          "model_name": "LeafletDrawControlModel",
          "model_module_version": "^0.18",
          "state": {
            "_model_module": "jupyter-leaflet",
            "_model_module_version": "^0.18",
            "_model_name": "LeafletDrawControlModel",
            "_view_count": null,
            "_view_module": "jupyter-leaflet",
            "_view_module_version": "^0.18",
            "_view_name": "LeafletDrawControlView",
            "circle": {},
            "circlemarker": {},
            "data": [],
            "edit": true,
            "marker": {
              "shapeOptions": {
                "color": "#3388ff"
              }
            },
            "options": [
              "position"
            ],
            "polygon": {
              "shapeOptions": {}
            },
            "polyline": {
              "shapeOptions": {}
            },
            "position": "topleft",
            "rectangle": {
              "shapeOptions": {
                "color": "#3388ff"
              }
            },
            "remove": true
          }
        },
        "8b4269e71dec463bafd0f51233c83be7": {
          "model_module": "jupyter-leaflet",
          "model_name": "LeafletScaleControlModel",
          "model_module_version": "^0.18",
          "state": {
            "_model_module": "jupyter-leaflet",
            "_model_module_version": "^0.18",
            "_model_name": "LeafletScaleControlModel",
            "_view_count": null,
            "_view_module": "jupyter-leaflet",
            "_view_module_version": "^0.18",
            "_view_name": "LeafletScaleControlView",
            "imperial": true,
            "max_width": 100,
            "metric": true,
            "options": [
              "imperial",
              "max_width",
              "metric",
              "position",
              "update_when_idle"
            ],
            "position": "bottomleft",
            "update_when_idle": false
          }
        },
        "9775048a678c4d14966afa40fb1d9ef9": {
          "model_module": "jupyter-leaflet",
          "model_name": "LeafletWidgetControlModel",
          "model_module_version": "^0.18",
          "state": {
            "_model_module": "jupyter-leaflet",
            "_model_module_version": "^0.18",
            "_model_name": "LeafletWidgetControlModel",
            "_view_count": null,
            "_view_module": "jupyter-leaflet",
            "_view_module_version": "^0.18",
            "_view_name": "LeafletWidgetControlView",
            "max_height": null,
            "max_width": null,
            "min_height": null,
            "min_width": null,
            "options": [
              "position",
              "transparent_bg"
            ],
            "position": "topright",
            "transparent_bg": false,
            "widget": "IPY_MODEL_4e88aee9302e40ab9f6ef237fc0572e0"
          }
        },
        "95d6736986b14a069f5a9066f4154b44": {
          "model_module": "jupyter-leaflet",
          "model_name": "LeafletAttributionControlModel",
          "model_module_version": "^0.18",
          "state": {
            "_model_module": "jupyter-leaflet",
            "_model_module_version": "^0.18",
            "_model_name": "LeafletAttributionControlModel",
            "_view_count": null,
            "_view_module": "jupyter-leaflet",
            "_view_module_version": "^0.18",
            "_view_name": "LeafletAttributionControlView",
            "options": [
              "position",
              "prefix"
            ],
            "position": "bottomright",
            "prefix": "ipyleaflet"
          }
        },
        "e3e952fcb48d47518268c809fa79da15": {
          "model_module": "jupyter-leaflet",
          "model_name": "LeafletMapStyleModel",
          "model_module_version": "^0.18",
          "state": {
            "_model_module": "jupyter-leaflet",
            "_model_module_version": "^0.18",
            "_model_name": "LeafletMapStyleModel",
            "_view_count": null,
            "_view_module": "@jupyter-widgets/base",
            "_view_module_version": "1.2.0",
            "_view_name": "StyleView",
            "cursor": "grab"
          }
        },
        "8c8592d440be452c8594d851e4d03eee": {
          "model_module": "jupyter-leaflet",
          "model_name": "LeafletMapStyleModel",
          "model_module_version": "^0.18",
          "state": {
            "_model_module": "jupyter-leaflet",
            "_model_module_version": "^0.18",
            "_model_name": "LeafletMapStyleModel",
            "_view_count": null,
            "_view_module": "@jupyter-widgets/base",
            "_view_module_version": "1.2.0",
            "_view_name": "StyleView",
            "cursor": "move"
          }
        },
        "cd7aac4a1c58435d9eee3564e801d6a2": {
          "model_module": "jupyter-leaflet",
          "model_name": "LeafletTileLayerModel",
          "model_module_version": "^0.18",
          "state": {
            "_model_module": "jupyter-leaflet",
            "_model_module_version": "^0.18",
            "_model_name": "LeafletTileLayerModel",
            "_view_count": null,
            "_view_module": "jupyter-leaflet",
            "_view_module_version": "^0.18",
            "_view_name": "LeafletTileLayerView",
            "attribution": "&copy; <a href=\"https://www.openstreetmap.org/copyright\">OpenStreetMap</a> contributors",
            "base": true,
            "bottom": true,
            "bounds": null,
            "detect_retina": false,
            "loading": false,
            "max_native_zoom": null,
            "max_zoom": 19,
            "min_native_zoom": null,
            "min_zoom": 1,
            "name": "OpenStreetMap.Mapnik",
            "no_wrap": false,
            "opacity": 1,
            "options": [
              "attribution",
              "bounds",
              "detect_retina",
              "max_native_zoom",
              "max_zoom",
              "min_native_zoom",
              "min_zoom",
              "no_wrap",
              "tile_size",
              "tms",
              "zoom_offset"
            ],
            "pane": "",
            "popup": null,
            "popup_max_height": null,
            "popup_max_width": 300,
            "popup_min_width": 50,
            "show_loading": false,
            "subitems": [],
            "tile_size": 256,
            "tms": false,
            "url": "https://tile.openstreetmap.org/{z}/{x}/{y}.png",
            "visible": true,
            "zoom_offset": 0
          }
        },
        "078910c2ae704847bbbda4be2b9101e1": {
          "model_module": "jupyter-leaflet",
          "model_name": "LeafletTileLayerModel",
          "model_module_version": "^0.18",
          "state": {
            "_model_module": "jupyter-leaflet",
            "_model_module_version": "^0.18",
            "_model_name": "LeafletTileLayerModel",
            "_view_count": null,
            "_view_module": "jupyter-leaflet",
            "_view_module_version": "^0.18",
            "_view_name": "LeafletTileLayerView",
            "attribution": "Google Earth Engine",
            "base": false,
            "bottom": true,
            "bounds": null,
            "detect_retina": false,
            "loading": false,
            "max_native_zoom": null,
            "max_zoom": 24,
            "min_native_zoom": null,
            "min_zoom": 0,
            "name": "false color composite",
            "no_wrap": false,
            "opacity": 1,
            "options": [
              "attribution",
              "bounds",
              "detect_retina",
              "max_native_zoom",
              "max_zoom",
              "min_native_zoom",
              "min_zoom",
              "no_wrap",
              "tile_size",
              "tms",
              "zoom_offset"
            ],
            "pane": "",
            "popup": null,
            "popup_max_height": null,
            "popup_max_width": 300,
            "popup_min_width": 50,
            "show_loading": false,
            "subitems": [],
            "tile_size": 256,
            "tms": false,
            "url": "https://earthengine.googleapis.com/v1/projects/model-argon-418411/maps/4046ce94e1b0edbb6d0340ffbb6132f2-823dedda38e685015925e035cf9ed0a5/tiles/{z}/{x}/{y}",
            "visible": true,
            "zoom_offset": 0
          }
        },
        "9b8cfec132a4475c837e87f9f45ef1e2": {
          "model_module": "@jupyter-widgets/base",
          "model_name": "LayoutModel",
          "model_module_version": "1.2.0",
          "state": {
            "_model_module": "@jupyter-widgets/base",
            "_model_module_version": "1.2.0",
            "_model_name": "LayoutModel",
            "_view_count": null,
            "_view_module": "@jupyter-widgets/base",
            "_view_module_version": "1.2.0",
            "_view_name": "LayoutView",
            "align_content": null,
            "align_items": null,
            "align_self": null,
            "border": null,
            "bottom": null,
            "display": null,
            "flex": null,
            "flex_flow": null,
            "grid_area": null,
            "grid_auto_columns": null,
            "grid_auto_flow": null,
            "grid_auto_rows": null,
            "grid_column": null,
            "grid_gap": null,
            "grid_row": null,
            "grid_template_areas": null,
            "grid_template_columns": null,
            "grid_template_rows": null,
            "height": "600px",
            "justify_content": null,
            "justify_items": null,
            "left": null,
            "margin": null,
            "max_height": null,
            "max_width": null,
            "min_height": null,
            "min_width": null,
            "object_fit": null,
            "object_position": null,
            "order": null,
            "overflow": null,
            "overflow_x": null,
            "overflow_y": null,
            "padding": null,
            "right": null,
            "top": null,
            "visibility": null,
            "width": null
          }
        },
        "e8d8c9c379904a4ab8405887e5abf150": {
          "model_module": "jupyter-leaflet",
          "model_name": "LeafletMapStyleModel",
          "model_module_version": "^0.18",
          "state": {
            "_model_module": "jupyter-leaflet",
            "_model_module_version": "^0.18",
            "_model_name": "LeafletMapStyleModel",
            "_view_count": null,
            "_view_module": "@jupyter-widgets/base",
            "_view_module_version": "1.2.0",
            "_view_name": "StyleView",
            "cursor": "grab"
          }
        },
        "4e88aee9302e40ab9f6ef237fc0572e0": {
          "model_module": "@jupyter-widgets/controls",
          "model_name": "VBoxModel",
          "model_module_version": "1.5.0",
          "state": {
            "_dom_classes": [
              "geemap-colab"
            ],
            "_model_module": "@jupyter-widgets/controls",
            "_model_module_version": "1.5.0",
            "_model_name": "VBoxModel",
            "_view_count": null,
            "_view_module": "@jupyter-widgets/controls",
            "_view_module_version": "1.5.0",
            "_view_name": "VBoxView",
            "box_style": "",
            "children": [
              "IPY_MODEL_1cc9ae1550f04589bd3d943392db1866"
            ],
            "layout": "IPY_MODEL_52790ac8931944fb8e5b3189254b8d10"
          }
        },
        "1cc9ae1550f04589bd3d943392db1866": {
          "model_module": "@jupyter-widgets/controls",
          "model_name": "ToggleButtonModel",
          "model_module_version": "1.5.0",
          "state": {
            "_dom_classes": [],
            "_model_module": "@jupyter-widgets/controls",
            "_model_module_version": "1.5.0",
            "_model_name": "ToggleButtonModel",
            "_view_count": null,
            "_view_module": "@jupyter-widgets/controls",
            "_view_module_version": "1.5.0",
            "_view_name": "ToggleButtonView",
            "button_style": "",
            "description": "",
            "description_tooltip": null,
            "disabled": false,
            "icon": "wrench",
            "layout": "IPY_MODEL_4c21e96dbe3c447299f99b7958f61aca",
            "style": "IPY_MODEL_1db2ba3a790a4ca19f4ff0c568c06a3f",
            "tooltip": "Toolbar",
            "value": false
          }
        },
        "52790ac8931944fb8e5b3189254b8d10": {
          "model_module": "@jupyter-widgets/base",
          "model_name": "LayoutModel",
          "model_module_version": "1.2.0",
          "state": {
            "_model_module": "@jupyter-widgets/base",
            "_model_module_version": "1.2.0",
            "_model_name": "LayoutModel",
            "_view_count": null,
            "_view_module": "@jupyter-widgets/base",
            "_view_module_version": "1.2.0",
            "_view_name": "LayoutView",
            "align_content": null,
            "align_items": null,
            "align_self": null,
            "border": null,
            "bottom": null,
            "display": null,
            "flex": null,
            "flex_flow": null,
            "grid_area": null,
            "grid_auto_columns": null,
            "grid_auto_flow": null,
            "grid_auto_rows": null,
            "grid_column": null,
            "grid_gap": null,
            "grid_row": null,
            "grid_template_areas": null,
            "grid_template_columns": null,
            "grid_template_rows": null,
            "height": null,
            "justify_content": null,
            "justify_items": null,
            "left": null,
            "margin": null,
            "max_height": null,
            "max_width": null,
            "min_height": null,
            "min_width": null,
            "object_fit": null,
            "object_position": null,
            "order": null,
            "overflow": null,
            "overflow_x": null,
            "overflow_y": null,
            "padding": null,
            "right": null,
            "top": null,
            "visibility": null,
            "width": null
          }
        },
        "4c21e96dbe3c447299f99b7958f61aca": {
          "model_module": "@jupyter-widgets/base",
          "model_name": "LayoutModel",
          "model_module_version": "1.2.0",
          "state": {
            "_model_module": "@jupyter-widgets/base",
            "_model_module_version": "1.2.0",
            "_model_name": "LayoutModel",
            "_view_count": null,
            "_view_module": "@jupyter-widgets/base",
            "_view_module_version": "1.2.0",
            "_view_name": "LayoutView",
            "align_content": null,
            "align_items": null,
            "align_self": null,
            "border": null,
            "bottom": null,
            "display": null,
            "flex": null,
            "flex_flow": null,
            "grid_area": null,
            "grid_auto_columns": null,
            "grid_auto_flow": null,
            "grid_auto_rows": null,
            "grid_column": null,
            "grid_gap": null,
            "grid_row": null,
            "grid_template_areas": null,
            "grid_template_columns": null,
            "grid_template_rows": null,
            "height": "28px",
            "justify_content": null,
            "justify_items": null,
            "left": null,
            "margin": null,
            "max_height": null,
            "max_width": null,
            "min_height": null,
            "min_width": null,
            "object_fit": null,
            "object_position": null,
            "order": null,
            "overflow": null,
            "overflow_x": null,
            "overflow_y": null,
            "padding": "0px 0px 0px 4px",
            "right": null,
            "top": null,
            "visibility": null,
            "width": "28px"
          }
        },
        "1db2ba3a790a4ca19f4ff0c568c06a3f": {
          "model_module": "@jupyter-widgets/controls",
          "model_name": "DescriptionStyleModel",
          "model_module_version": "1.5.0",
          "state": {
            "_model_module": "@jupyter-widgets/controls",
            "_model_module_version": "1.5.0",
            "_model_name": "DescriptionStyleModel",
            "_view_count": null,
            "_view_module": "@jupyter-widgets/base",
            "_view_module_version": "1.2.0",
            "_view_name": "StyleView",
            "description_width": ""
          }
        }
      }
    }
  },
  "cells": [
    {
      "cell_type": "code",
      "execution_count": 63,
      "metadata": {
        "id": "p_MlfgPVbed_"
      },
      "outputs": [],
      "source": [
        "import folium\n",
        "import ee\n",
        "import matplotlib.pyplot as plt\n",
        "import seaborn as sns\n",
        "import IPython.display as disp\n",
        "from branca.element import Figure\n",
        "import numpy as np\n",
        "import geemap.core as geemap"
      ]
    },
    {
      "cell_type": "code",
      "source": [
        "fig1 = Figure(width=550,height=350)\n",
        "\n",
        "place = [-25.767765, 27.821752]\n",
        "\n",
        "map1 = folium.Map(location=place,zoom_start=12, width=550,height=350);\n",
        "fig1.add_child(map1)\n",
        "\n",
        "folium.Marker(location=place,popup='Default popup Marker1',tooltip='Click here to see Popup').add_to(map1)\n",
        "display(fig1)"
      ],
      "metadata": {
        "colab": {
          "base_uri": "https://localhost:8080/",
          "height": 371
        },
        "id": "ytw5Lku1bfUe",
        "outputId": "3986a47f-78af-4b0e-8fea-bfe94f2f71dc"
      },
      "execution_count": 3,
      "outputs": [
        {
          "output_type": "display_data",
          "data": {
            "text/plain": [
              "<branca.element.Figure at 0x7b4003d37eb0>"
            ],
            "text/html": [
              "<iframe srcdoc=\"&lt;!DOCTYPE html&gt;\n",
              "&lt;html&gt;\n",
              "&lt;head&gt;\n",
              "    \n",
              "    &lt;meta http-equiv=&quot;content-type&quot; content=&quot;text/html; charset=UTF-8&quot; /&gt;\n",
              "    \n",
              "        &lt;script&gt;\n",
              "            L_NO_TOUCH = false;\n",
              "            L_DISABLE_3D = false;\n",
              "        &lt;/script&gt;\n",
              "    \n",
              "    &lt;style&gt;html, body {width: 100%;height: 100%;margin: 0;padding: 0;}&lt;/style&gt;\n",
              "    &lt;style&gt;#map {position:absolute;top:0;bottom:0;right:0;left:0;}&lt;/style&gt;\n",
              "    &lt;script src=&quot;https://cdn.jsdelivr.net/npm/leaflet@1.9.3/dist/leaflet.js&quot;&gt;&lt;/script&gt;\n",
              "    &lt;script src=&quot;https://code.jquery.com/jquery-1.12.4.min.js&quot;&gt;&lt;/script&gt;\n",
              "    &lt;script src=&quot;https://cdn.jsdelivr.net/npm/bootstrap@5.2.2/dist/js/bootstrap.bundle.min.js&quot;&gt;&lt;/script&gt;\n",
              "    &lt;script src=&quot;https://cdnjs.cloudflare.com/ajax/libs/Leaflet.awesome-markers/2.0.2/leaflet.awesome-markers.js&quot;&gt;&lt;/script&gt;\n",
              "    &lt;link rel=&quot;stylesheet&quot; href=&quot;https://cdn.jsdelivr.net/npm/leaflet@1.9.3/dist/leaflet.css&quot;/&gt;\n",
              "    &lt;link rel=&quot;stylesheet&quot; href=&quot;https://cdn.jsdelivr.net/npm/bootstrap@5.2.2/dist/css/bootstrap.min.css&quot;/&gt;\n",
              "    &lt;link rel=&quot;stylesheet&quot; href=&quot;https://netdna.bootstrapcdn.com/bootstrap/3.0.0/css/bootstrap.min.css&quot;/&gt;\n",
              "    &lt;link rel=&quot;stylesheet&quot; href=&quot;https://cdn.jsdelivr.net/npm/@fortawesome/fontawesome-free@6.2.0/css/all.min.css&quot;/&gt;\n",
              "    &lt;link rel=&quot;stylesheet&quot; href=&quot;https://cdnjs.cloudflare.com/ajax/libs/Leaflet.awesome-markers/2.0.2/leaflet.awesome-markers.css&quot;/&gt;\n",
              "    &lt;link rel=&quot;stylesheet&quot; href=&quot;https://cdn.jsdelivr.net/gh/python-visualization/folium/folium/templates/leaflet.awesome.rotate.min.css&quot;/&gt;\n",
              "    \n",
              "            &lt;meta name=&quot;viewport&quot; content=&quot;width=device-width,\n",
              "                initial-scale=1.0, maximum-scale=1.0, user-scalable=no&quot; /&gt;\n",
              "            &lt;style&gt;\n",
              "                #map_528722ff531939608de7cfed01c64d47 {\n",
              "                    position: relative;\n",
              "                    width: 550.0px;\n",
              "                    height: 350.0px;\n",
              "                    left: 0.0%;\n",
              "                    top: 0.0%;\n",
              "                }\n",
              "                .leaflet-container { font-size: 1rem; }\n",
              "            &lt;/style&gt;\n",
              "        \n",
              "&lt;/head&gt;\n",
              "&lt;body&gt;\n",
              "    \n",
              "    \n",
              "            &lt;div class=&quot;folium-map&quot; id=&quot;map_528722ff531939608de7cfed01c64d47&quot; &gt;&lt;/div&gt;\n",
              "        \n",
              "&lt;/body&gt;\n",
              "&lt;script&gt;\n",
              "    \n",
              "    \n",
              "            var map_528722ff531939608de7cfed01c64d47 = L.map(\n",
              "                &quot;map_528722ff531939608de7cfed01c64d47&quot;,\n",
              "                {\n",
              "                    center: [-25.767765, 27.821752],\n",
              "                    crs: L.CRS.EPSG3857,\n",
              "                    zoom: 12,\n",
              "                    zoomControl: true,\n",
              "                    preferCanvas: false,\n",
              "                }\n",
              "            );\n",
              "\n",
              "            \n",
              "\n",
              "        \n",
              "    \n",
              "            var tile_layer_0684fa118cc7dab10d8d5d18204bdb34 = L.tileLayer(\n",
              "                &quot;https://{s}.tile.openstreetmap.org/{z}/{x}/{y}.png&quot;,\n",
              "                {&quot;attribution&quot;: &quot;Data by \\u0026copy; \\u003ca target=\\&quot;_blank\\&quot; href=\\&quot;http://openstreetmap.org\\&quot;\\u003eOpenStreetMap\\u003c/a\\u003e, under \\u003ca target=\\&quot;_blank\\&quot; href=\\&quot;http://www.openstreetmap.org/copyright\\&quot;\\u003eODbL\\u003c/a\\u003e.&quot;, &quot;detectRetina&quot;: false, &quot;maxNativeZoom&quot;: 18, &quot;maxZoom&quot;: 18, &quot;minZoom&quot;: 0, &quot;noWrap&quot;: false, &quot;opacity&quot;: 1, &quot;subdomains&quot;: &quot;abc&quot;, &quot;tms&quot;: false}\n",
              "            ).addTo(map_528722ff531939608de7cfed01c64d47);\n",
              "        \n",
              "    \n",
              "            var marker_cfc185ff1ad4911c0df331f8e78052f1 = L.marker(\n",
              "                [-25.767765, 27.821752],\n",
              "                {}\n",
              "            ).addTo(map_528722ff531939608de7cfed01c64d47);\n",
              "        \n",
              "    \n",
              "        var popup_e0cf3285f4eb5f35f8010d2336131fb6 = L.popup({&quot;maxWidth&quot;: &quot;100%&quot;});\n",
              "\n",
              "        \n",
              "            \n",
              "                var html_3ecf157805a010a0e8322b334dca500d = $(`&lt;div id=&quot;html_3ecf157805a010a0e8322b334dca500d&quot; style=&quot;width: 100.0%; height: 100.0%;&quot;&gt;Default popup Marker1&lt;/div&gt;`)[0];\n",
              "                popup_e0cf3285f4eb5f35f8010d2336131fb6.setContent(html_3ecf157805a010a0e8322b334dca500d);\n",
              "            \n",
              "        \n",
              "\n",
              "        marker_cfc185ff1ad4911c0df331f8e78052f1.bindPopup(popup_e0cf3285f4eb5f35f8010d2336131fb6)\n",
              "        ;\n",
              "\n",
              "        \n",
              "    \n",
              "    \n",
              "            marker_cfc185ff1ad4911c0df331f8e78052f1.bindTooltip(\n",
              "                `&lt;div&gt;\n",
              "                     Click here to see Popup\n",
              "                 &lt;/div&gt;`,\n",
              "                {&quot;sticky&quot;: true}\n",
              "            );\n",
              "        \n",
              "&lt;/script&gt;\n",
              "&lt;/html&gt;\" width=\"550\" height=\"350\"style=\"border:none !important;\" \"allowfullscreen\" \"webkitallowfullscreen\" \"mozallowfullscreen\"></iframe>"
            ]
          },
          "metadata": {}
        }
      ]
    },
    {
      "cell_type": "markdown",
      "source": [
        "Folium is a Python library specifically designed for creating interactive web maps.\n",
        "\n",
        "The coordinates of the area of interest generated with https://geojson.io/."
      ],
      "metadata": {
        "id": "YetPkH9AKh0G"
      }
    },
    {
      "cell_type": "code",
      "source": [
        "area = {\n",
        "  \"type\": \"FeatureCollection\",\n",
        "  \"features\": [\n",
        "    {\n",
        "      \"type\": \"Feature\",\n",
        "      \"properties\": {},\n",
        "      \"geometry\": {\n",
        "        \"coordinates\": [\n",
        "          [\n",
        "            [\n",
        "              27.786133463075856,\n",
        "              -25.75962922338192\n",
        "            ],\n",
        "            [\n",
        "              27.83496591736119,\n",
        "              -25.771439844456808\n",
        "            ],\n",
        "            [\n",
        "              27.873019288371523,\n",
        "              -25.775021668711503\n",
        "            ],\n",
        "            [\n",
        "              27.906776882033,\n",
        "              -25.754303403348942\n",
        "            ],\n",
        "            [\n",
        "              27.877614848722516,\n",
        "              -25.729469674356395\n",
        "            ],\n",
        "            [\n",
        "              27.786133463075856,\n",
        "              -25.75962922338192\n",
        "            ]\n",
        "          ]\n",
        "        ],\n",
        "        \"type\": \"Polygon\"\n",
        "      }\n",
        "    }\n",
        "  ]\n",
        "}"
      ],
      "metadata": {
        "id": "-QR-QmRBdE8O"
      },
      "execution_count": 4,
      "outputs": []
    },
    {
      "cell_type": "code",
      "source": [
        "folium.GeoJson(data=area,style_function=lambda x: {'fillColor': 'orange'}).add_to(map1);\n",
        "display(fig1)"
      ],
      "metadata": {
        "colab": {
          "base_uri": "https://localhost:8080/",
          "height": 371
        },
        "id": "x2ALARjGd5C5",
        "outputId": "1f37146a-cea1-4e7b-87a6-d3041fea0379"
      },
      "execution_count": 5,
      "outputs": [
        {
          "output_type": "display_data",
          "data": {
            "text/plain": [
              "<branca.element.Figure at 0x7b4003d37eb0>"
            ],
            "text/html": [
              "<iframe srcdoc=\"&lt;!DOCTYPE html&gt;\n",
              "&lt;html&gt;\n",
              "&lt;head&gt;\n",
              "    \n",
              "    &lt;meta http-equiv=&quot;content-type&quot; content=&quot;text/html; charset=UTF-8&quot; /&gt;\n",
              "    \n",
              "        &lt;script&gt;\n",
              "            L_NO_TOUCH = false;\n",
              "            L_DISABLE_3D = false;\n",
              "        &lt;/script&gt;\n",
              "    \n",
              "    &lt;style&gt;html, body {width: 100%;height: 100%;margin: 0;padding: 0;}&lt;/style&gt;\n",
              "    &lt;style&gt;#map {position:absolute;top:0;bottom:0;right:0;left:0;}&lt;/style&gt;\n",
              "    &lt;script src=&quot;https://cdn.jsdelivr.net/npm/leaflet@1.9.3/dist/leaflet.js&quot;&gt;&lt;/script&gt;\n",
              "    &lt;script src=&quot;https://code.jquery.com/jquery-1.12.4.min.js&quot;&gt;&lt;/script&gt;\n",
              "    &lt;script src=&quot;https://cdn.jsdelivr.net/npm/bootstrap@5.2.2/dist/js/bootstrap.bundle.min.js&quot;&gt;&lt;/script&gt;\n",
              "    &lt;script src=&quot;https://cdnjs.cloudflare.com/ajax/libs/Leaflet.awesome-markers/2.0.2/leaflet.awesome-markers.js&quot;&gt;&lt;/script&gt;\n",
              "    &lt;link rel=&quot;stylesheet&quot; href=&quot;https://cdn.jsdelivr.net/npm/leaflet@1.9.3/dist/leaflet.css&quot;/&gt;\n",
              "    &lt;link rel=&quot;stylesheet&quot; href=&quot;https://cdn.jsdelivr.net/npm/bootstrap@5.2.2/dist/css/bootstrap.min.css&quot;/&gt;\n",
              "    &lt;link rel=&quot;stylesheet&quot; href=&quot;https://netdna.bootstrapcdn.com/bootstrap/3.0.0/css/bootstrap.min.css&quot;/&gt;\n",
              "    &lt;link rel=&quot;stylesheet&quot; href=&quot;https://cdn.jsdelivr.net/npm/@fortawesome/fontawesome-free@6.2.0/css/all.min.css&quot;/&gt;\n",
              "    &lt;link rel=&quot;stylesheet&quot; href=&quot;https://cdnjs.cloudflare.com/ajax/libs/Leaflet.awesome-markers/2.0.2/leaflet.awesome-markers.css&quot;/&gt;\n",
              "    &lt;link rel=&quot;stylesheet&quot; href=&quot;https://cdn.jsdelivr.net/gh/python-visualization/folium/folium/templates/leaflet.awesome.rotate.min.css&quot;/&gt;\n",
              "    \n",
              "            &lt;meta name=&quot;viewport&quot; content=&quot;width=device-width,\n",
              "                initial-scale=1.0, maximum-scale=1.0, user-scalable=no&quot; /&gt;\n",
              "            &lt;style&gt;\n",
              "                #map_528722ff531939608de7cfed01c64d47 {\n",
              "                    position: relative;\n",
              "                    width: 550.0px;\n",
              "                    height: 350.0px;\n",
              "                    left: 0.0%;\n",
              "                    top: 0.0%;\n",
              "                }\n",
              "                .leaflet-container { font-size: 1rem; }\n",
              "            &lt;/style&gt;\n",
              "        \n",
              "&lt;/head&gt;\n",
              "&lt;body&gt;\n",
              "    \n",
              "    \n",
              "            &lt;div class=&quot;folium-map&quot; id=&quot;map_528722ff531939608de7cfed01c64d47&quot; &gt;&lt;/div&gt;\n",
              "        \n",
              "&lt;/body&gt;\n",
              "&lt;script&gt;\n",
              "    \n",
              "    \n",
              "            var map_528722ff531939608de7cfed01c64d47 = L.map(\n",
              "                &quot;map_528722ff531939608de7cfed01c64d47&quot;,\n",
              "                {\n",
              "                    center: [-25.767765, 27.821752],\n",
              "                    crs: L.CRS.EPSG3857,\n",
              "                    zoom: 12,\n",
              "                    zoomControl: true,\n",
              "                    preferCanvas: false,\n",
              "                }\n",
              "            );\n",
              "\n",
              "            \n",
              "\n",
              "        \n",
              "    \n",
              "            var tile_layer_0684fa118cc7dab10d8d5d18204bdb34 = L.tileLayer(\n",
              "                &quot;https://{s}.tile.openstreetmap.org/{z}/{x}/{y}.png&quot;,\n",
              "                {&quot;attribution&quot;: &quot;Data by \\u0026copy; \\u003ca target=\\&quot;_blank\\&quot; href=\\&quot;http://openstreetmap.org\\&quot;\\u003eOpenStreetMap\\u003c/a\\u003e, under \\u003ca target=\\&quot;_blank\\&quot; href=\\&quot;http://www.openstreetmap.org/copyright\\&quot;\\u003eODbL\\u003c/a\\u003e.&quot;, &quot;detectRetina&quot;: false, &quot;maxNativeZoom&quot;: 18, &quot;maxZoom&quot;: 18, &quot;minZoom&quot;: 0, &quot;noWrap&quot;: false, &quot;opacity&quot;: 1, &quot;subdomains&quot;: &quot;abc&quot;, &quot;tms&quot;: false}\n",
              "            ).addTo(map_528722ff531939608de7cfed01c64d47);\n",
              "        \n",
              "    \n",
              "            var marker_cfc185ff1ad4911c0df331f8e78052f1 = L.marker(\n",
              "                [-25.767765, 27.821752],\n",
              "                {}\n",
              "            ).addTo(map_528722ff531939608de7cfed01c64d47);\n",
              "        \n",
              "    \n",
              "        var popup_e0cf3285f4eb5f35f8010d2336131fb6 = L.popup({&quot;maxWidth&quot;: &quot;100%&quot;});\n",
              "\n",
              "        \n",
              "            \n",
              "                var html_3ecf157805a010a0e8322b334dca500d = $(`&lt;div id=&quot;html_3ecf157805a010a0e8322b334dca500d&quot; style=&quot;width: 100.0%; height: 100.0%;&quot;&gt;Default popup Marker1&lt;/div&gt;`)[0];\n",
              "                popup_e0cf3285f4eb5f35f8010d2336131fb6.setContent(html_3ecf157805a010a0e8322b334dca500d);\n",
              "            \n",
              "        \n",
              "\n",
              "        marker_cfc185ff1ad4911c0df331f8e78052f1.bindPopup(popup_e0cf3285f4eb5f35f8010d2336131fb6)\n",
              "        ;\n",
              "\n",
              "        \n",
              "    \n",
              "    \n",
              "            marker_cfc185ff1ad4911c0df331f8e78052f1.bindTooltip(\n",
              "                `&lt;div&gt;\n",
              "                     Click here to see Popup\n",
              "                 &lt;/div&gt;`,\n",
              "                {&quot;sticky&quot;: true}\n",
              "            );\n",
              "        \n",
              "    \n",
              "        function geo_json_41becd7915666492adc5f440fdc8402e_styler(feature) {\n",
              "            switch(feature.id) {\n",
              "                default:\n",
              "                    return {&quot;fillColor&quot;: &quot;orange&quot;};\n",
              "            }\n",
              "        }\n",
              "\n",
              "        function geo_json_41becd7915666492adc5f440fdc8402e_onEachFeature(feature, layer) {\n",
              "            layer.on({\n",
              "            });\n",
              "        };\n",
              "        var geo_json_41becd7915666492adc5f440fdc8402e = L.geoJson(null, {\n",
              "                onEachFeature: geo_json_41becd7915666492adc5f440fdc8402e_onEachFeature,\n",
              "            \n",
              "                style: geo_json_41becd7915666492adc5f440fdc8402e_styler,\n",
              "        });\n",
              "\n",
              "        function geo_json_41becd7915666492adc5f440fdc8402e_add (data) {\n",
              "            geo_json_41becd7915666492adc5f440fdc8402e\n",
              "                .addData(data)\n",
              "                .addTo(map_528722ff531939608de7cfed01c64d47);\n",
              "        }\n",
              "            geo_json_41becd7915666492adc5f440fdc8402e_add({&quot;features&quot;: [{&quot;geometry&quot;: {&quot;coordinates&quot;: [[[27.786133463075856, -25.75962922338192], [27.83496591736119, -25.771439844456808], [27.873019288371523, -25.775021668711503], [27.906776882033, -25.754303403348942], [27.877614848722516, -25.729469674356395], [27.786133463075856, -25.75962922338192]]], &quot;type&quot;: &quot;Polygon&quot;}, &quot;id&quot;: &quot;0&quot;, &quot;properties&quot;: {}, &quot;type&quot;: &quot;Feature&quot;}], &quot;type&quot;: &quot;FeatureCollection&quot;});\n",
              "\n",
              "        \n",
              "&lt;/script&gt;\n",
              "&lt;/html&gt;\" width=\"550\" height=\"350\"style=\"border:none !important;\" \"allowfullscreen\" \"webkitallowfullscreen\" \"mozallowfullscreen\"></iframe>"
            ]
          },
          "metadata": {}
        }
      ]
    },
    {
      "cell_type": "code",
      "source": [
        "ee.Authenticate()"
      ],
      "metadata": {
        "id": "X5_0TuOveBUY"
      },
      "execution_count": 6,
      "outputs": []
    },
    {
      "cell_type": "markdown",
      "source": [
        "You need a GCP (google cloud platform) project with earth engine enabled.\n",
        "\n",
        "https://earthengine.google.com/noncommercial/\n",
        "\n",
        "https://console.cloud.google.com/"
      ],
      "metadata": {
        "id": "b3tcxV6WLwLm"
      }
    },
    {
      "cell_type": "code",
      "source": [
        "ee.Initialize(project=\"model-argon-418411\")"
      ],
      "metadata": {
        "id": "o0-TxO4JeI8s"
      },
      "execution_count": 7,
      "outputs": []
    },
    {
      "cell_type": "code",
      "source": [
        "coords = area['features'][0]['geometry']['coordinates']\n",
        "aoi = ee.Geometry.Polygon(coords)"
      ],
      "metadata": {
        "id": "-iGZuFZOeSxJ"
      },
      "execution_count": 8,
      "outputs": []
    },
    {
      "cell_type": "code",
      "source": [
        "image1 = ee.ImageCollection('COPERNICUS/S1_GRD').filterBounds(aoi).filterDate('2024-01-01', '2024-01-31').first().clip(aoi);\n",
        "image2 = ee.ImageCollection('COPERNICUS/S1_GRD').filterBounds(aoi).filterDate('2023-08-01', '2023-08-31').first().clip(aoi);"
      ],
      "metadata": {
        "id": "ORk90ADz698a"
      },
      "execution_count": 9,
      "outputs": []
    },
    {
      "cell_type": "code",
      "source": [
        "url = image1.select('VV').getThumbURL({'min': -20, 'max': 0})\n",
        "disp.Image(url=url, width=800)"
      ],
      "metadata": {
        "colab": {
          "base_uri": "https://localhost:8080/",
          "height": 354
        },
        "id": "mbx27oNi7K9c",
        "outputId": "fd849879-7c05-4b99-de32-3adfd24bff59"
      },
      "execution_count": 24,
      "outputs": [
        {
          "output_type": "execute_result",
          "data": {
            "text/html": [
              "<img src=\"https://earthengine.googleapis.com/v1/projects/model-argon-418411/thumbnails/e40dbb88ba1fc0413202d431f0825c6a-f88826e76a994c1a9631ca6f05b205ad:getPixels\" width=\"800\"/>"
            ],
            "text/plain": [
              "<IPython.core.display.Image object>"
            ]
          },
          "metadata": {},
          "execution_count": 24
        }
      ]
    },
    {
      "cell_type": "code",
      "source": [
        "url = image2.select('VV').getThumbURL({'min': -20, 'max': 0})\n",
        "disp.Image(url=url, width=800)"
      ],
      "metadata": {
        "colab": {
          "base_uri": "https://localhost:8080/",
          "height": 355
        },
        "id": "GvG2C09eBT7q",
        "outputId": "598e6d42-88d8-41a8-ba9c-0f6412e937d8"
      },
      "execution_count": 25,
      "outputs": [
        {
          "output_type": "execute_result",
          "data": {
            "text/html": [
              "<img src=\"https://earthengine.googleapis.com/v1/projects/model-argon-418411/thumbnails/05bef9ba82fb5c9755245ebf6c11a8d5-ee921d622b9620ca216644ee848404a2:getPixels\" width=\"800\"/>"
            ],
            "text/plain": [
              "<IPython.core.display.Image object>"
            ]
          },
          "metadata": {},
          "execution_count": 25
        }
      ]
    },
    {
      "cell_type": "code",
      "source": [
        "image1 = ee.ImageCollection('LANDSAT/LC08/C01/T1_TOA').filterBounds(aoi).filterDate('2019-12-01', '2020-01-31').first();\n",
        "image2 = ee.ImageCollection('LANDSAT/LC08/C01/T1_TOA').filterBounds(aoi).filterDate('2020-08-01', '2020-08-31').first();"
      ],
      "metadata": {
        "id": "g2C9pbodNIob"
      },
      "execution_count": 55,
      "outputs": []
    },
    {
      "cell_type": "code",
      "source": [
        "region = ee.Geometry.Polygon(area['features'][0]['geometry']['coordinates'])"
      ],
      "metadata": {
        "id": "Ysw09JhsN-7J"
      },
      "execution_count": 56,
      "outputs": []
    },
    {
      "cell_type": "code",
      "source": [
        "def display_histogram(image, region):\n",
        "\n",
        "  # Compute NDVI for the specified region.\n",
        "  ndvi = image.normalizedDifference(['B5', 'B4']).clip(region)\n",
        "\n",
        "  # Convert the image to an array so it can be plotted.\n",
        "  ndvi_array = ndvi.reduceRegion(\n",
        "    reducer=ee.Reducer.toList(),\n",
        "    geometry=region,\n",
        "    maxPixels=1e10\n",
        "  ).get('nd').getInfo()\n",
        "\n",
        "  # Plot the histogram of NDVI values.\n",
        "  import matplotlib.pyplot as plt\n",
        "  plt.hist(ndvi_array, bins=100)\n",
        "  plt.xlabel('NDVI Value')\n",
        "  plt.ylabel('Frequency')\n",
        "  plt.show()"
      ],
      "metadata": {
        "id": "0TbqLdRUNTrM"
      },
      "execution_count": 57,
      "outputs": []
    },
    {
      "cell_type": "code",
      "source": [
        "display_histogram(image1, region)\n",
        "display_histogram(image2, region)"
      ],
      "metadata": {
        "colab": {
          "base_uri": "https://localhost:8080/",
          "height": 881
        },
        "id": "cgwCglFeNas8",
        "outputId": "c0b253f1-ad3d-4d39-a856-11ef34483ce5"
      },
      "execution_count": 59,
      "outputs": [
        {
          "output_type": "display_data",
          "data": {
            "text/plain": [
              "<Figure size 640x480 with 1 Axes>"
            ],
            "image/png": "[encoded data removed]"
          },
          "metadata": {}
        },
        {
          "output_type": "display_data",
          "data": {
            "text/plain": [
              "<Figure size 640x480 with 1 Axes>"
            ],
            "image/png": "[encoded data removed]"
          },
          "metadata": {}
        }
      ]
    },
    {
      "cell_type": "code",
      "source": [
        "# Define the visualization parameters.\n",
        "image_viz_params = {\n",
        "    'bands': ['B5', 'B4'],\n",
        "    'min': 0,\n",
        "    'max': 0.5,\n",
        "    'gamma': [0.95, 1.1],\n",
        "}\n",
        "\n",
        "map = geemap.Map(center=place, zoom=10)\n",
        "\n",
        "# Add the image layer to the map and display it.\n",
        "map.add_layer(image1, image_viz_params, 'false color composite')\n",
        "display(map)"
      ],
      "metadata": {
        "colab": {
          "base_uri": "https://localhost:8080/",
          "height": 621,
          "referenced_widgets": [
            "6c31afdbfa6f4a47be3b9604ff652312",
            "e701f6a73474455db1782aa62aca59f7",
            "45f0835f75094a79b81362110273a036",
            "dd2b63be6b0f481fa217024896180700",
            "8b4269e71dec463bafd0f51233c83be7",
            "9775048a678c4d14966afa40fb1d9ef9",
            "95d6736986b14a069f5a9066f4154b44",
            "e3e952fcb48d47518268c809fa79da15",
            "8c8592d440be452c8594d851e4d03eee",
            "cd7aac4a1c58435d9eee3564e801d6a2",
            "078910c2ae704847bbbda4be2b9101e1",
            "9b8cfec132a4475c837e87f9f45ef1e2",
            "e8d8c9c379904a4ab8405887e5abf150",
            "4e88aee9302e40ab9f6ef237fc0572e0",
            "1cc9ae1550f04589bd3d943392db1866",
            "52790ac8931944fb8e5b3189254b8d10",
            "4c21e96dbe3c447299f99b7958f61aca",
            "1db2ba3a790a4ca19f4ff0c568c06a3f"
          ]
        },
        "id": "MaGPG2SMTwtq",
        "outputId": "c060f69e-7c54-4dea-d5d2-7fefe46e2807"
      },
      "execution_count": 68,
      "outputs": [
        {
          "output_type": "display_data",
          "data": {
            "text/plain": [
              "<IPython.core.display.HTML object>"
            ],
            "text/html": [
              "\n",
              "            <style>\n",
              "                .geemap-dark {\n",
              "                    --jp-widgets-color: white;\n",
              "                    --jp-widgets-label-color: white;\n",
              "                    --jp-ui-font-color1: white;\n",
              "                    --jp-layout-color2: #454545;\n",
              "                    background-color: #383838;\n",
              "                }\n",
              "\n",
              "                .geemap-dark .jupyter-button {\n",
              "                    --jp-layout-color3: #383838;\n",
              "                }\n",
              "\n",
              "                .geemap-colab {\n",
              "                    background-color: var(--colab-primary-surface-color, white);\n",
              "                }\n",
              "\n",
              "                .geemap-colab .jupyter-button {\n",
              "                    --jp-layout-color3: var(--colab-primary-surface-color, white);\n",
              "                }\n",
              "            </style>\n",
              "            "
            ]
          },
          "metadata": {}
        },
        {
          "output_type": "display_data",
          "data": {
            "text/plain": [
              "Map(center=[-25.767765, 27.821752], controls=(ZoomControl(options=['position', 'zoom_in_text', 'zoom_in_title'…"
            ],
            "application/vnd.jupyter.widget-view+json": {
              "version_major": 2,
              "version_minor": 0,
              "model_id": "6c31afdbfa6f4a47be3b9604ff652312"
            }
          },
          "metadata": {
            "application/vnd.jupyter.widget-view+json": {
              "colab": {
                "custom_widget_manager": {
                  "url": "https://ssl.gstatic.com/colaboratory-static/widgets/colab-cdn-widget-manager/2b70e893a8ba7c0f/manager.min.js"
                }
              }
            }
          }
        }
      ]
    },
    {
      "cell_type": "code",
      "source": [
        "import datetime\n",
        "# Define the location of interest.\n",
        "#location = ee.Geometry.Point().buffer(10000).bounds();\n",
        "\n",
        "sentinel1 = ee.ImageCollection('COPERNICUS/S1_GRD')\\\n",
        ".filterBounds(aoi).filterDate('2022-01-01', '2024-02-29')\\\n",
        ".sort('system:time_start', False);\n",
        "\n",
        "# Print the number of images in the filtered collection.\n",
        "print('Number of images:', sentinel1.size().getInfo())"
      ],
      "metadata": {
        "colab": {
          "base_uri": "https://localhost:8080/"
        },
        "id": "8e1Co4q78dU7",
        "outputId": "1eb05c56-ea66-42d9-f573-80e00137a413"
      },
      "execution_count": 18,
      "outputs": [
        {
          "output_type": "stream",
          "name": "stdout",
          "text": [
            "Number of images: 64\n"
          ]
        }
      ]
    },
    {
      "cell_type": "code",
      "source": [
        "dates = sentinel1.aggregate_array(\"system:time_start\").getInfo()\n",
        "\n",
        "# Convert the dates from Unix time to human-readable format\n",
        "readable_dates = [datetime.datetime.fromtimestamp(int(d) / 1000).strftime(\"%Y-%m-%d\") for d in dates]\n",
        "\n",
        "print(\"Available dates:\", readable_dates)"
      ],
      "metadata": {
        "colab": {
          "base_uri": "https://localhost:8080/"
        },
        "id": "V5cieM9R9Tgh",
        "outputId": "34be8977-db7a-4438-d640-0b1e921f32fe"
      },
      "execution_count": 19,
      "outputs": [
        {
          "output_type": "stream",
          "name": "stdout",
          "text": [
            "Available dates: ['2024-02-23', '2024-02-11', '2024-01-30', '2024-01-18', '2024-01-06', '2023-12-25', '2023-12-13', '2023-12-01', '2023-11-19', '2023-11-07', '2023-10-14', '2023-10-02', '2023-09-20', '2023-09-08', '2023-08-27', '2023-08-15', '2023-08-03', '2023-07-22', '2023-07-10', '2023-06-28', '2023-06-16', '2023-06-04', '2023-05-23', '2023-05-11', '2023-04-29', '2023-04-17', '2023-04-05', '2023-03-24', '2023-03-12', '2023-02-28', '2023-02-16', '2023-02-04', '2023-01-23', '2023-01-11', '2022-12-30', '2022-12-18', '2022-12-06', '2022-11-24', '2022-11-12', '2022-10-31', '2022-10-19', '2022-10-07', '2022-09-25', '2022-09-13', '2022-09-01', '2022-08-20', '2022-08-08', '2022-07-27', '2022-07-15', '2022-07-03', '2022-06-21', '2022-05-28', '2022-05-16', '2022-05-04', '2022-04-22', '2022-04-10', '2022-03-29', '2022-03-17', '2022-03-05', '2022-02-21', '2022-02-09', '2022-01-28', '2022-01-16', '2022-01-04']\n"
          ]
        }
      ]
    },
    {
      "cell_type": "code",
      "source": [
        "images = sentinel1.toList(sentinel1.size().getInfo())\n",
        "time_series = [];\n",
        "# Loop through each image in the 140 images\n",
        "for i in range(sentinel1.size().getInfo()):\n",
        "    # Get the date of the selected image\n",
        "    image = ee.Image(images.get(i))\n",
        "    date = image.date().format(\"YYYY-MM-dd\").getInfo()\n",
        "    value = image.reduceRegion(ee.Reducer.mean(), aoi, 30).getInfo();\n",
        "    time_series.append([date,value['VV'],value['VH']]);"
      ],
      "metadata": {
        "id": "OFGs_KnY9bQ8"
      },
      "execution_count": 20,
      "outputs": []
    },
    {
      "cell_type": "code",
      "source": [
        "import pandas as pd\n",
        "df = pd.DataFrame(time_series, columns=[\"date\", \"VV\", \"VH\"])"
      ],
      "metadata": {
        "id": "yXX92PSo9ny6"
      },
      "execution_count": 21,
      "outputs": []
    },
    {
      "cell_type": "code",
      "source": [
        "fig1, ax = plt.subplots(1,1,dpi=100,figsize=(12, 5))\n",
        "ax.plot(df['date'][0:50],df['VV'][0:50],label='VV');\n",
        "ax.plot(df['date'][0:50],df['VH'][0:50],'r',label='VH');\n",
        "ax.tick_params(axis='x', labelrotation = 90)\n",
        "ax.set_title('VH,VV time series');\n",
        "ax.set_xlabel('date')\n",
        "ax.set_ylabel('backscatter [db]');\n",
        "ax.legend()"
      ],
      "metadata": {
        "colab": {
          "base_uri": "https://localhost:8080/",
          "height": 570
        },
        "id": "dEY7YCXk9w6Z",
        "outputId": "3f821c72-0f38-4ad0-9178-ec61db29805e"
      },
      "execution_count": 22,
      "outputs": [
        {
          "output_type": "execute_result",
          "data": {
            "text/plain": [
              "<matplotlib.legend.Legend at 0x782486f6bca0>"
            ]
          },
          "metadata": {},
          "execution_count": 22
        },
        {
          "output_type": "display_data",
          "data": {
            "text/plain": [
              "<Figure size 1200x500 with 1 Axes>"
            ],
            "image/png": "[encoded data removed]"
          },
          "metadata": {}
        }
      ]
    },
    {
      "cell_type": "markdown",
      "source": [
        "Resources:\n",
        "\n",
        "\n",
        "https://developers.google.com/earth-engine/guides/auth\n",
        "\n",
        "https://www.kaggle.com/code/sathyanarayanrao89/google-earth-sentinel-1-imagery-eda-on-berambadi"
      ],
      "metadata": {
        "id": "r5wUUTO1LH_k"
      }
    },
    {
      "cell_type": "code",
      "source": [],
      "metadata": {
        "id": "pP_7RXVI9zng"
      },
      "execution_count": null,
      "outputs": []
    }
  ]
}